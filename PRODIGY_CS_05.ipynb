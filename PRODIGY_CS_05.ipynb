{
  "nbformat": 4,
  "nbformat_minor": 0,
  "metadata": {
    "colab": {
      "provenance": []
    },
    "kernelspec": {
      "name": "python3",
      "display_name": "Python 3"
    },
    "language_info": {
      "name": "python"
    }
  },
  "cells": [
    {
      "cell_type": "code",
      "source": [
        "pip install scapy"
      ],
      "metadata": {
        "colab": {
          "base_uri": "https://localhost:8080/"
        },
        "id": "x6IuYs4LbLhZ",
        "outputId": "179fff69-bf79-47c0-c506-8b59045c711e"
      },
      "execution_count": 1,
      "outputs": [
        {
          "output_type": "stream",
          "name": "stdout",
          "text": [
            "Collecting scapy\n",
            "  Downloading scapy-2.6.1-py3-none-any.whl.metadata (5.6 kB)\n",
            "Downloading scapy-2.6.1-py3-none-any.whl (2.4 MB)\n",
            "\u001b[?25l   \u001b[90m━━━━━━━━━━━━━━━━━━━━━━━━━━━━━━━━━━━━━━━━\u001b[0m \u001b[32m0.0/2.4 MB\u001b[0m \u001b[31m?\u001b[0m eta \u001b[36m-:--:--\u001b[0m\r\u001b[2K   \u001b[91m━━\u001b[0m\u001b[90m╺\u001b[0m\u001b[90m━━━━━━━━━━━━━━━━━━━━━━━━━━━━━━━━━━━━━\u001b[0m \u001b[32m0.1/2.4 MB\u001b[0m \u001b[31m3.5 MB/s\u001b[0m eta \u001b[36m0:00:01\u001b[0m\r\u001b[2K   \u001b[91m━━━━━━━━━━━━━━━\u001b[0m\u001b[90m╺\u001b[0m\u001b[90m━━━━━━━━━━━━━━━━━━━━━━━━\u001b[0m \u001b[32m0.9/2.4 MB\u001b[0m \u001b[31m12.6 MB/s\u001b[0m eta \u001b[36m0:00:01\u001b[0m\r\u001b[2K   \u001b[91m━━━━━━━━━━━━━━━━━━━━━━━━━━━━━━━━━━━━━━━\u001b[0m\u001b[91m╸\u001b[0m \u001b[32m2.4/2.4 MB\u001b[0m \u001b[31m26.6 MB/s\u001b[0m eta \u001b[36m0:00:01\u001b[0m\r\u001b[2K   \u001b[90m━━━━━━━━━━━━━━━━━━━━━━━━━━━━━━━━━━━━━━━━\u001b[0m \u001b[32m2.4/2.4 MB\u001b[0m \u001b[31m21.0 MB/s\u001b[0m eta \u001b[36m0:00:00\u001b[0m\n",
            "\u001b[?25hInstalling collected packages: scapy\n",
            "Successfully installed scapy-2.6.1\n"
          ]
        }
      ]
    },
    {
      "cell_type": "code",
      "source": [
        "from scapy.all import sniff, IP, TCP, UDP, ICMP\n"
      ],
      "metadata": {
        "id": "N4D-WHssRFBb"
      },
      "execution_count": 2,
      "outputs": []
    },
    {
      "cell_type": "code",
      "source": [
        "def packet_callback(packet):\n",
        "    print(\"\\n=== Packet Captured ===\")\n",
        "\n",
        "    if IP in packet:\n",
        "        ip_layer = packet[IP]\n",
        "        print(f\"From: {ip_layer.src} --> To: {ip_layer.dst}\")\n",
        "        print(f\"Protocol: {ip_layer.proto}\")\n",
        "\n",
        "        if packet.haslayer(TCP):\n",
        "            print(\"TCP Packet\")\n",
        "            print(f\"Source Port: {packet[TCP].sport}, Dest Port: {packet[TCP].dport}\")\n",
        "\n",
        "        elif packet.haslayer(UDP):\n",
        "            print(\"UDP Packet\")\n",
        "            print(f\"Source Port: {packet[UDP].sport}, Dest Port: {packet[UDP].dport}\")\n",
        "\n",
        "        elif packet.haslayer(ICMP):\n",
        "            print(\"ICMP Packet\")\n",
        "    else:\n",
        "        print(\"Non-IP Packet\")\n"
      ],
      "metadata": {
        "id": "sCrPy4pERRLP"
      },
      "execution_count": 3,
      "outputs": []
    },
    {
      "cell_type": "code",
      "source": [
        "def start_sniffing():\n",
        "    print(\"Starting packet capture... Capturing 20 packets.\")\n",
        "    sniff(prn=packet_callback, store=False, count=20)\n",
        "\n",
        "if __name__ == \"__main__\":\n",
        "    start_sniffing()"
      ],
      "metadata": {
        "colab": {
          "base_uri": "https://localhost:8080/"
        },
        "id": "JUqWWPmW_eB8",
        "outputId": "7ec25504-e4e4-4eea-ef0e-e4b007e06c06"
      },
      "execution_count": 14,
      "outputs": [
        {
          "output_type": "stream",
          "name": "stdout",
          "text": [
            "Starting packet capture... Capturing 20 packets.\n",
            "\n",
            "=== Packet Captured ===\n",
            "From: 172.28.0.1 --> To: 172.28.0.12\n",
            "Protocol: 6\n",
            "TCP Packet\n",
            "Source Port: 58156, Dest Port: 8080\n",
            "\n",
            "=== Packet Captured ===\n",
            "From: 172.28.0.12 --> To: 172.28.0.1\n",
            "Protocol: 6\n",
            "TCP Packet\n",
            "Source Port: 8080, Dest Port: 58156\n",
            "\n",
            "=== Packet Captured ===\n",
            "From: 172.28.0.1 --> To: 172.28.0.12\n",
            "Protocol: 6\n",
            "TCP Packet\n",
            "Source Port: 45180, Dest Port: 8080\n",
            "\n",
            "=== Packet Captured ===\n",
            "From: 172.28.0.12 --> To: 172.28.0.1\n",
            "Protocol: 6\n",
            "TCP Packet\n",
            "Source Port: 8080, Dest Port: 45180\n",
            "\n",
            "=== Packet Captured ===\n",
            "From: 172.28.0.1 --> To: 172.28.0.12\n",
            "Protocol: 6\n",
            "TCP Packet\n",
            "Source Port: 45180, Dest Port: 8080\n",
            "\n",
            "=== Packet Captured ===\n",
            "From: 172.28.0.12 --> To: 172.28.0.1\n",
            "Protocol: 6\n",
            "TCP Packet\n",
            "Source Port: 8080, Dest Port: 58138\n",
            "\n",
            "=== Packet Captured ===\n",
            "From: 172.28.0.1 --> To: 172.28.0.12\n",
            "Protocol: 6\n",
            "TCP Packet\n",
            "Source Port: 58138, Dest Port: 8080\n",
            "\n",
            "=== Packet Captured ===\n",
            "From: 172.28.0.12 --> To: 172.28.0.1\n",
            "Protocol: 6\n",
            "TCP Packet\n",
            "Source Port: 8080, Dest Port: 58156\n",
            "\n",
            "=== Packet Captured ===\n",
            "From: 172.28.0.1 --> To: 172.28.0.12\n",
            "Protocol: 6\n",
            "TCP Packet\n",
            "Source Port: 58156, Dest Port: 8080\n",
            "\n",
            "=== Packet Captured ===\n",
            "From: 172.28.0.12 --> To: 172.28.0.1\n",
            "Protocol: 6\n",
            "TCP Packet\n",
            "Source Port: 8080, Dest Port: 58138\n",
            "\n",
            "=== Packet Captured ===\n",
            "From: 172.28.0.1 --> To: 172.28.0.12\n",
            "Protocol: 6\n",
            "TCP Packet\n",
            "Source Port: 58138, Dest Port: 8080\n",
            "\n",
            "=== Packet Captured ===\n",
            "From: 172.28.0.12 --> To: 172.28.0.1\n",
            "Protocol: 6\n",
            "TCP Packet\n",
            "Source Port: 8080, Dest Port: 58156\n",
            "\n",
            "=== Packet Captured ===\n",
            "From: 172.28.0.1 --> To: 172.28.0.12\n",
            "Protocol: 6\n",
            "TCP Packet\n",
            "Source Port: 58156, Dest Port: 8080\n",
            "\n",
            "=== Packet Captured ===\n",
            "From: 172.28.0.12 --> To: 172.28.0.1\n",
            "Protocol: 6\n",
            "TCP Packet\n",
            "Source Port: 8080, Dest Port: 58156\n",
            "\n",
            "=== Packet Captured ===\n",
            "From: 172.28.0.1 --> To: 172.28.0.12\n",
            "Protocol: 6\n",
            "TCP Packet\n",
            "Source Port: 58156, Dest Port: 8080\n",
            "\n",
            "=== Packet Captured ===\n",
            "From: 172.28.0.1 --> To: 172.28.0.12\n",
            "Protocol: 6\n",
            "TCP Packet\n",
            "Source Port: 58156, Dest Port: 8080\n",
            "\n",
            "=== Packet Captured ===\n",
            "From: 172.28.0.12 --> To: 172.28.0.1\n",
            "Protocol: 6\n",
            "TCP Packet\n",
            "Source Port: 8080, Dest Port: 58156\n",
            "\n",
            "=== Packet Captured ===\n",
            "From: 172.28.0.12 --> To: 172.28.0.1\n",
            "Protocol: 6\n",
            "TCP Packet\n",
            "Source Port: 8080, Dest Port: 58156\n",
            "\n",
            "=== Packet Captured ===\n",
            "From: 172.28.0.1 --> To: 172.28.0.12\n",
            "Protocol: 6\n",
            "TCP Packet\n",
            "Source Port: 58156, Dest Port: 8080\n",
            "\n",
            "=== Packet Captured ===\n",
            "From: 172.28.0.12 --> To: 172.28.0.1\n",
            "Protocol: 6\n",
            "TCP Packet\n",
            "Source Port: 8080, Dest Port: 58138\n"
          ]
        }
      ]
    },
    {
      "cell_type": "code",
      "source": [],
      "metadata": {
        "id": "luIyJkVnADHe"
      },
      "execution_count": null,
      "outputs": []
    }
  ]
}